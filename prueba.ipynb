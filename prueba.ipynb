{
 "cells": [
  {
   "cell_type": "code",
   "execution_count": 1,
   "metadata": {},
   "outputs": [],
   "source": [
    "import numpy as np \n",
    "from skimage import color \n",
    "from PIL import Image, ImageFilter"
   ]
  },
  {
   "cell_type": "code",
   "execution_count": 37,
   "metadata": {},
   "outputs": [],
   "source": [
    "# Cálculo de error\n",
    "def deltaE(lab_est, lab_sample): \n",
    "    L_est = lab_est[0]\n",
    "    a_est = lab_est[1]\n",
    "    b_est = lab_est[2]\n",
    "\n",
    "    L_samp = lab_sample[0]\n",
    "    a_samp = lab_sample[1]\n",
    "    b_samp = lab_sample[2]\n",
    "\n",
    "    DL = L_samp - L_est\n",
    "    Da = a_samp - a_est\n",
    "    Db = b_samp - b_est\n",
    "\n",
    "    DE = np.sqrt(DL**2 + Da**2 + Db**2)\n",
    "    return DE, DL, Da, Db\n",
    "\n",
    "def gamma_table(gamma_r, gamma_g, gamma_b, gain_r=1.0, gain_g=1.0, gain_b=1.0):\n",
    "    r_tbl = [min(255, int((x / 255.) ** (gamma_r) * gain_r * 255.)) for x in range(256)]\n",
    "    g_tbl = [min(255, int((x / 255.) ** (gamma_g) * gain_g * 255.)) for x in range(256)]\n",
    "    b_tbl = [min(255, int((x / 255.) ** (gamma_b) * gain_b * 255.)) for x in range(256)]\n",
    "    return r_tbl + g_tbl + b_tbl\n",
    "\n",
    "def applyGamma(img, gamma=2.2):\n",
    "    inv_gamma = 1. / gamma\n",
    "    return img.point(gamma_table(inv_gamma, inv_gamma, inv_gamma))\n",
    "\n",
    "def deGamma(img, gamma=2.2):\n",
    "    return img.point(gamma_table(gamma, gamma, gamma))\n",
    "\n",
    "def sRGB2XYZ(img):\n",
    "    # # D50\n",
    "    rgb2xyz = (0.4360747, 0.3850649, 0.1430804, 0,\n",
    "               0.2225045, 0.7168786, 0.0606169, 0,\n",
    "               0.0139322, 0.0971045, 0.7141733, 0)\n",
    "    # D65\n",
    "    # rgb2xyz = (0.412391, 0.357584, 0.180481, 0,\n",
    "    #            0.212639, 0.715169, 0.072192, 0,\n",
    "    #            0.019331, 0.119195, 0.950532, 0)\n",
    "    return img.convert(\"RGB\", rgb2xyz)\n",
    "\n",
    "def XYZ2sRGB(img):\n",
    "    # D50\n",
    "    xyz2rgb = (3.1338561, -1.6168667, -0.4906146, 0,\n",
    "               -0.9787684,  1.9161415,  0.0334540, 0,\n",
    "               0.0719453, -0.2289914,  1.4052427, 0)\n",
    "    # D65\n",
    "    # xyz2rgb = (3.240970, -1.537383, -0.498611, 0,\n",
    "    #            -0.969244, 1.875968, 0.041555, 0,\n",
    "    #            0.055630, -0.203977, 1.056972, 0)\n",
    "    return img.convert(\"RGB\", xyz2rgb)\n",
    "\n",
    "path = '/home/adguerrero/ia_nas/adguerrero/corregida/recortes/img_1.jpg'\n",
    "input_img = Image.open(path, 'r').convert('RGB')\n",
    "\n",
    "input_img = deGamma(input_img, gamma=2.2)\n",
    "# print(list(input_img.getdata()))\n",
    "xyz_img = sRGB2XYZ(input_img)\n",
    "\n",
    "# ESTAMPILLA ESTANDAR\n",
    "estandar = np.array([87.73,16.27,100.60]) # ESTANDAR \n",
    "\n",
    "# MUESTRA \n",
    "muestra = color.xyz2lab(xyz_img, illuminant= 'D50', observer='2')\n",
    "muestra = np.array([np.median(muestra[:,:,0]),np.median(muestra[:,:,1]),np.median(muestra[:,:,2])])\n"
   ]
  },
  {
   "cell_type": "code",
   "execution_count": 38,
   "metadata": {},
   "outputs": [
    {
     "name": "stdout",
     "output_type": "stream",
     "text": [
      "DE = 30.069500726063424\n",
      "DL = -12.266475344978872\n",
      "Da = -11.413316608662065\n",
      "Db = -24.968873833559115\n"
     ]
    }
   ],
   "source": [
    "# ERROR\n",
    "DE, DL, Da, Db = deltaE(estandar, muestra)\n",
    "\n",
    "print('DE = ' + str(DE))\n",
    "print('DL = ' + str(DL))\n",
    "print('Da = ' + str(Da))\n",
    "print('Db = ' + str(Db))"
   ]
  },
  {
   "cell_type": "code",
   "execution_count": 3,
   "metadata": {},
   "outputs": [],
   "source": [
    "input_img = Image.open('./test/original/img_0.jpg')\n"
   ]
  },
  {
   "cell_type": "code",
   "execution_count": null,
   "metadata": {},
   "outputs": [],
   "source": []
  }
 ],
 "metadata": {
  "kernelspec": {
   "display_name": "colorimetria",
   "language": "python",
   "name": "python3"
  },
  "language_info": {
   "codemirror_mode": {
    "name": "ipython",
    "version": 3
   },
   "file_extension": ".py",
   "mimetype": "text/x-python",
   "name": "python",
   "nbconvert_exporter": "python",
   "pygments_lexer": "ipython3",
   "version": "3.10.4 (main, Mar 31 2022, 08:41:55) [GCC 7.5.0]"
  },
  "orig_nbformat": 4,
  "vscode": {
   "interpreter": {
    "hash": "7caf59b62ee51440dfb600422c740e8e5e07c1cdba4cb254386e30bd42c50cbd"
   }
  }
 },
 "nbformat": 4,
 "nbformat_minor": 2
}
